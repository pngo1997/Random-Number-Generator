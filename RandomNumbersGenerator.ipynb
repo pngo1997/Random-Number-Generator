{
 "cells": [
  {
   "cell_type": "markdown",
   "metadata": {},
   "source": [
    "#### Student Name: Mai Ngo\n",
    "#### Course Name and Number: DSC 430 Python Programming\n",
    "#### Assignment Name and Number: Assignment0701_WarAndRandomNumbers\n",
    "#### Date: 2/22/2023\n",
    "#### Honor Statement: “I have not given or received any unauthorized assistance on this assignment.\""
   ]
  },
  {
   "cell_type": "markdown",
   "metadata": {},
   "source": [
    "#### Assumption:"
   ]
  },
  {
   "cell_type": "markdown",
   "metadata": {},
   "source": [
    "Initially, I code both seed and step in __init__ with default values. Then I changed step as input by user since it's not in the original homework requirment. \\\n",
    "I didn't realized this at first - start with Object Oriented Programing for def random() \\\n",
    "'if not ch1' and 'if not ch2' took me a very long time to figure it out. As I came accross error: ‘utf-8' codec can't decode byte 0xc3 in position 0: unexpected end of data’. "
   ]
  },
  {
   "cell_type": "code",
   "execution_count": 37,
   "metadata": {
    "colab": {
     "base_uri": "https://localhost:8080/",
     "height": 425
    },
    "id": "sx88hY1NqoFC",
    "outputId": "0e6214a8-414a-45c0-cc31-9c50574d5b08"
   },
   "outputs": [],
   "source": [
    "class WarAndPeacePseudoRandomNumberGenerator():\n",
    "    '''Represent PRNG using War and Peace text file.'''\n",
    "    \n",
    "    def __init__(self, seed=1000, step=100):\n",
    "        '''Initialization for class WarAndPeacePRNG.'''\n",
    "        \n",
    "        self.seed = seed\n",
    "        #Assign instance variable seed value for first character. \n",
    "        self.step = step\n",
    "        #self.step = int(input(\"Enter the step (integer):\"))\n",
    "        #Assign instance variable step as input by user to run test.\n",
    "  \n",
    "    def random(self):\n",
    "        '''Calculte random number generator with binary data from war-and-peace.txt'''\n",
    "        \n",
    "        charPairs = self.getBinary(32, self.seed, self.step)\n",
    "        #Caliing charPairs list contain 32 chracter tuples.\n",
    "        \n",
    "        bitList = []\n",
    "        #Empty list to collect bit\n",
    "\n",
    "        for ch1, ch2 in charPairs:\n",
    "        #Iterate through each chracter in each tuple, in charPairs.\n",
    "            if ch1 > ch2:\n",
    "                bitList.append(1)\n",
    "                #Append 1 if ch1 > ch2\n",
    "                \n",
    "            else:\n",
    "                bitList.append(0)\n",
    "                #Append 0 if ch1 < ch2\n",
    "    \n",
    "        power = 1\n",
    "        #Assign 1 as power of 2.\n",
    "        \n",
    "        total = 0\n",
    "        #Assign total to accumulate result.\n",
    "        \n",
    "        for bit in bitList:\n",
    "        #Iterate over each bit. Should be a list of 32.\n",
    "            total += bit * (1 / (2 ** power))\n",
    "            #total = bit * (1/2) for 1st bit.\n",
    "            power += 1\n",
    "            #Then increase power by 1 after each bit.\n",
    "            #For ex: power will be 2. Thus bit * (1 / 2*2) = bit * (1/4)    \n",
    "        \n",
    "        return total\n",
    "    \n",
    "    def getBinary(self, n, seed, step):\n",
    "        '''Returns 32 bits / 32 chracter pairs from war-and-peace.txt'''\n",
    "        #Given seed and step.\n",
    "        \n",
    "        charPairs = []\n",
    "        #Assign empty list charPairs to store every two characters ch1 and ch2.\n",
    "        #Each pair of characters stored as tuples.\n",
    "        \n",
    "        filename = \"war-and-peace.txt\"\n",
    "        with open(filename, \"rb\") as file:\n",
    "        #Open and read file in binary mode.\n",
    "            \n",
    "            file.seek(0,2)\n",
    "            nbytes = file.tell()\n",
    "            #Get total byte of the text file.\n",
    "        \n",
    "            file.seek(seed)\n",
    "            #Seek for the seed value.\n",
    "            while len(charPairs) < n:  \n",
    "            #While loop to keep accumulate charPairs until reach 32 pairs / 32 bits.\n",
    "\n",
    "                ch1 = file.read(1)\n",
    "                #Read the character at the cursor. \n",
    "                #This should be the seed character. \n",
    "                                \n",
    "                current_pos = file.tell()\n",
    "                #Get update current position\n",
    "            \n",
    "                if (current_pos + step) >= nbytes: \n",
    "                #If end of file is reached, adding extra step is more than text file length.\n",
    "                \n",
    "                    remain_byte = nbytes - current_pos\n",
    "                    #Calculate remaining byte. \n",
    "                    file.seek(step - remain_byte, 0)\n",
    "                    #Wrap around to beginning to the text file. \n",
    "                    #Off-set value = step - remaining bytes. \n",
    "                    \n",
    "                    ch2 = file.read(1)\n",
    "                    current_pos = file.tell()\n",
    "                    #Read next character and update current position.\n",
    "\n",
    "                else: \n",
    "                    \n",
    "                    file.seek(step - 1, 1)\n",
    "                    #Otherwise, still in text file length. \n",
    "                    #Seek to the next character, 10 step, starting from current position.\n",
    "                    #Step - 1 to get 10th chracter, instead of 11th.\n",
    "                    \n",
    "                    ch2 = file.read(1)\n",
    "                    current_pos = file.tell()\n",
    "                    #Read and update current position\n",
    "                    \n",
    "                if ch1 != ch2:\n",
    "                #If char 1 value different than char 2. Then we take it. \n",
    "                #This is for when we have 2 dupplicate chars. \n",
    "                \n",
    "                    try:\n",
    "                    #Use try - except incase cannot decode character.\n",
    "                    \n",
    "                        ch1 = ch1.decode()\n",
    "                        ch2 = ch2.decode()\n",
    "                        #Decode, not using 'utf-8' since we are not printing. \n",
    "                        \n",
    "                        charPairs.append((ch1, ch2))\n",
    "                        #Append two chars as tuple to list charPairs\n",
    "                        #Using tuple for comparision. \n",
    "                        \n",
    "                    except UnicodeDecodeError:\n",
    "                    #In case cannot decode the character. \n",
    "                        pass\n",
    "                    \n",
    "                file.seek(step - 1, 1)\n",
    "                #Seek to the next chracter with given step.\n",
    "                current_pos = file.tell()\n",
    "                #Give current position of the new point.\n",
    "                \n",
    "        self.seed = current_pos\n",
    "        #Set new seed value when finish collected 32 bits.\n",
    "        \n",
    "        return charPairs\n",
    "        #Return a list of 32 tuples (2 characters). "
   ]
  },
  {
   "cell_type": "code",
   "execution_count": 44,
   "metadata": {},
   "outputs": [],
   "source": [
    "def Test(seed,step):\n",
    "    '''Test function calling WarAndPeacePseudoRandomNumberGenerator() class.'''\n",
    "    \n",
    "    rand_numList = []\n",
    "    #Assign an empty list to collect result of each iteration.\n",
    "    #len(rand_numList) should stay fixed at 10,000\n",
    "    \n",
    "    prng = WarAndPeacePseudoRandomNumberGenerator(seed,step)\n",
    "    #Assign an empty list to accumulate total.\n",
    "\n",
    "    for i in range(10000):\n",
    "    #Generate 10,000 pseudo random numbers\n",
    "    \n",
    "        total = prng.random()\n",
    "        rand_numList.append(total)\n",
    "        #Getting total of each '32bits' round. And append to the final rand_numList.\n",
    "    \n",
    "    print(f\"Test: seed = {seed} | step = {step}\")\n",
    "    print(f\"Min: {min(rand_numList)}\")\n",
    "    print(f\"Max: {max(rand_numList)}\")\n",
    "    print(f\"Mean: {sum(rand_numList) / len(rand_numList)}\")"
   ]
  },
  {
   "cell_type": "markdown",
   "metadata": {},
   "source": [
    "##### Test 1: seed = 0 | step = 100"
   ]
  },
  {
   "cell_type": "code",
   "execution_count": 39,
   "metadata": {},
   "outputs": [
    {
     "name": "stdout",
     "output_type": "stream",
     "text": [
      "Test: seed = 0 | step = 100\n",
      "Min: 1.0266667231917381e-05\n",
      "Max: 0.9999076381791383\n",
      "Mean: 0.4950730588481063\n"
     ]
    }
   ],
   "source": [
    "Test(0,100)"
   ]
  },
  {
   "cell_type": "markdown",
   "metadata": {},
   "source": [
    "##### Test 2: seed = 1000 | step = 1000"
   ]
  },
  {
   "cell_type": "code",
   "execution_count": 40,
   "metadata": {},
   "outputs": [
    {
     "name": "stdout",
     "output_type": "stream",
     "text": [
      "Test: seed = 1000 | step = 1000\n",
      "Min: 8.744723163545132e-05\n",
      "Max: 0.9999184901826084\n",
      "Mean: 0.49903746490038464\n"
     ]
    }
   ],
   "source": [
    "Test(1000,1000)"
   ]
  },
  {
   "cell_type": "markdown",
   "metadata": {},
   "source": [
    "##### Test 3: seed = 2000 | step = 10000"
   ]
  },
  {
   "cell_type": "code",
   "execution_count": 41,
   "metadata": {},
   "outputs": [
    {
     "name": "stdout",
     "output_type": "stream",
     "text": [
      "Test: seed = 2000 | step = 10000\n",
      "Min: 0.00033326447010040283\n",
      "Max: 0.9999381385277957\n",
      "Mean: 0.5002883634121157\n"
     ]
    }
   ],
   "source": [
    "Test(2000,10000)"
   ]
  },
  {
   "cell_type": "markdown",
   "metadata": {},
   "source": [
    "##### Test 4: Average 4 Tests: seed = 2,000 | step = 1,000"
   ]
  },
  {
   "cell_type": "code",
   "execution_count": 51,
   "metadata": {},
   "outputs": [],
   "source": [
    "def Test4():\n",
    "    '''To run test 4.'''\n",
    "    \n",
    "    results = []\n",
    "    #Assign an empty list to collect result of each iteration.\n",
    "    #len(results) should stay fixed at 40,000\n",
    "    \n",
    "    prng = WarAndPeacePseudoRandomNumberGenerator()\n",
    "    #Calling WarAndPeace PRNG\n",
    "    seed = 2000\n",
    "    step = 1000\n",
    "    \n",
    "    for m in range(4):\n",
    "    #Need to run 4 times\n",
    "        with open(\"war-and-peace.txt\", \"rb\") as file:\n",
    "        #Keep the file open so that the next run will start at where previous run ends. \n",
    "        \n",
    "            rand_numList = []\n",
    "            prng.seed = seed\n",
    "            prng.step = step\n",
    "            \n",
    "            for i in range(10000):\n",
    "                total = prng.random()\n",
    "                rand_numList.append(total)\n",
    "                results.append(total)\n",
    "                \n",
    "                if len(rand_numList) % 10000 == 0:\n",
    "                    print(f\"{m+1}run\")\n",
    "                    print(f\"Min: {min(rand_numList)}\")\n",
    "                    print(f\"Max: {max(rand_numList)}\")\n",
    "                    print(f\"Mean: {sum(rand_numList) / len(rand_numList)}\")\n",
    "                    print(\"\\n\")\n",
    "                    #Basically same code as Test()\n",
    "            \n",
    "            seed += step\n",
    "            #Update next seed location for the next run\n",
    "    \n",
    "    print(f\"Test 4 average\")\n",
    "    print(f\"AvgMin: {min(results)}\")\n",
    "    print(f\"AvgMax: {max(results)}\")\n",
    "    print(f\"AvgMean: {sum(results) / len(results)}\")"
   ]
  },
  {
   "cell_type": "code",
   "execution_count": 50,
   "metadata": {},
   "outputs": [
    {
     "name": "stdout",
     "output_type": "stream",
     "text": [
      "1run\n",
      "Min: 0.0001731719821691513\n",
      "Max: 0.9999958125408739\n",
      "Mean: 0.4994297947369516\n",
      "\n",
      "\n",
      "2run\n",
      "Min: 7.353932596743107e-05\n",
      "Max: 0.9999529425986111\n",
      "Mean: 0.49627492991758043\n",
      "\n",
      "\n",
      "3run\n",
      "Min: 2.7749920263886452e-05\n",
      "Max: 0.9999916253145784\n",
      "Mean: 0.4999595895900391\n",
      "\n",
      "\n",
      "4run\n",
      "Min: 0.00014707865193486214\n",
      "Max: 0.9999058851972222\n",
      "Mean: 0.4984498599502025\n",
      "\n",
      "\n",
      "Test 4 average\n",
      "AvgMin: 2.7749920263886452e-05\n",
      "AvgMax: 0.9999958125408739\n",
      "AvgMean: 0.4985285435486934\n"
     ]
    }
   ],
   "source": [
    "Test4()"
   ]
  },
  {
   "cell_type": "markdown",
   "metadata": {},
   "source": [
    "#### I think my result make sense. The mean value always comes around 0.5 \n",
    "#### Explain how my pseudo random numbers are produced."
   ]
  },
  {
   "cell_type": "markdown",
   "metadata": {},
   "source": [
    "#### getBinary()\n",
    "    *I open file and read byte. Given seed value would be the position of first byte character.\n",
    "    *Then seek every given 'step-1', to get the exact character at given step, not after that. \n",
    "    *Read the second byte character.\n",
    "    *If end of the file is reached, wrap around to the beginning. And seek from the beginning by 'step - remaining byte.\n",
    "    *Then every 2 character, I check if they're different character. If they're duplicate, pass to the next seek. \n",
    "    *Always update current position.\n",
    "    *If they're different, read and append them as tuple to a list. Do it until I have 32 pairs/32 bits. \n",
    "    *Do try and except because I keep receiving ‘utf-8' codec can't decode byte 0xc3 in position 0: unexpected end of data’  error.\n",
    "    *The expected output is a list of 32 tuples. \n",
    "   \n",
    "#### random()\n",
    "    *With the output from getBinary()\n",
    "    *Compare each tuple in the list. Put into a new list, now it should be a list of 1 and 0 bit. 32 counts.\n",
    "    *The calculate result: for each bit, multiply with 1/2, 1/4, 1/8... to all 32 bits. \n",
    "    *Add each result to the total.\n",
    "    *Return the total. This is the total of EACH 32 bits. \n",
    "    \n",
    "### main()\n",
    "    *Assign an empty list rand_numList to accumualte each total. I'm expecting program runs 10,000 'total's\n",
    "    *Calculate max, min, median from rand_numList."
   ]
  }
 ],
 "metadata": {
  "colab": {
   "provenance": []
  },
  "kernelspec": {
   "display_name": "Python 3 (ipykernel)",
   "language": "python",
   "name": "python3"
  },
  "language_info": {
   "codemirror_mode": {
    "name": "ipython",
    "version": 3
   },
   "file_extension": ".py",
   "mimetype": "text/x-python",
   "name": "python",
   "nbconvert_exporter": "python",
   "pygments_lexer": "ipython3",
   "version": "3.9.13"
  }
 },
 "nbformat": 4,
 "nbformat_minor": 4
}
